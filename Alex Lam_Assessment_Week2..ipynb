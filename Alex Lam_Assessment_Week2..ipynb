{
  "nbformat": 4,
  "nbformat_minor": 0,
  "metadata": {
    "colab": {
      "provenance": [],
      "collapsed_sections": []
    },
    "kernelspec": {
      "name": "python3",
      "display_name": "Python 3"
    },
    "language_info": {
      "name": "python"
    }
  },
  "cells": [
    {
      "cell_type": "code",
      "execution_count": 54,
      "metadata": {
        "colab": {
          "base_uri": "https://localhost:8080/"
        },
        "id": "2C3x89Z9zMTe",
        "outputId": "9faaa668-dc59-4a48-fd14-c26b9abc87d4"
      },
      "outputs": [
        {
          "name": "stdout",
          "output_type": "stream",
          "text": [
            "enter a file path:/content/story.txt\n"
          ]
        },
        {
          "output_type": "execute_result",
          "data": {
            "text/plain": [
              "(\"the man and his wife, talking of the latest armed robbery in the suburb, were distracted by the sight of the little boy's pet cat effortlessly arriving over the seven-foot wall, descending first with a rapid bracing of extended forepaws down on the sheer vertical surface, and then a graceful launch, landing with swishing tail within the property.\",\n",
              " ['the', 'of', 'and', 'with', 'a'])"
            ]
          },
          "metadata": {},
          "execution_count": 54
        }
      ],
      "source": [
        "\n",
        "filepath = input('enter a file path:')\n",
        "\n",
        "def readfile1(filepath):\n",
        " \n",
        "  from collections import Counter\n",
        "  z = []\n",
        "  with open(filepath, 'r') as f:\n",
        "    a = f.read()\n",
        "    if a.isnumeric()==True:\n",
        "      print(a[0:10])\n",
        "    elif a.isnumeric()==False:\n",
        "      x = a.lower().rstrip('\\n')\n",
        "      splittt = x.split()\n",
        "      word_count = Counter(splittt)\n",
        "      n = word_count.most_common(5)\n",
        "      z = [i[0] for i in n]\n",
        "\n",
        "      return x , z\n",
        "  \n",
        "\n",
        "readfile1(filepath)  \n"
      ]
    },
    {
      "cell_type": "code",
      "source": [],
      "metadata": {
        "id": "_SEA8taLPpP-"
      },
      "execution_count": null,
      "outputs": []
    },
    {
      "cell_type": "code",
      "source": [
        "filepath = input('enter a file path:')\n",
        "\n",
        "def readfile1(filepath):\n",
        " \n",
        "  from collections import Counter\n",
        "  z = []\n",
        "  with open(filepath, 'r') as f:\n",
        "    a = f.read()\n",
        "    if a.isnumeric()==True:\n",
        "      print(a[0:10])\n",
        "    elif a.isnumeric()==False:\n",
        "      x = a.lower().rstrip('\\n')\n",
        "      splittt = x.split()\n",
        "      word_count = Counter(splittt)\n",
        "      n = word_count.most_common(5)\n",
        "      z = [i[0] for i in n]\n",
        "\n",
        "      return x , z\n",
        "  \n",
        "\n",
        "readfile1(filepath)  "
      ],
      "metadata": {
        "colab": {
          "base_uri": "https://localhost:8080/"
        },
        "id": "Up8-argQPp1S",
        "outputId": "12a64b93-4da8-418a-8eef-1677b84bf282"
      },
      "execution_count": null,
      "outputs": [
        {
          "output_type": "stream",
          "name": "stdout",
          "text": [
            "enter a file path:/content/number.txt\n",
            "1857617284\n"
          ]
        }
      ]
    }
  ]
}